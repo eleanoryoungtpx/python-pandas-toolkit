{
 "cells": [
  {
   "cell_type": "markdown",
   "metadata": {},
   "source": [
    "# Reading data\n",
    "\n",
    "We will look at different ways to read data such as directly from a file, from a url or from an API. We will consider some popular file types and different argument options for reading these. You must first start by importing pandas."
   ]
  },
  {
   "cell_type": "code",
   "execution_count": 21,
   "metadata": {},
   "outputs": [],
   "source": [
    "import pandas as pd"
   ]
  },
  {
   "cell_type": "markdown",
   "metadata": {},
   "source": [
    "Now in the future when we want to use a pandas function we reference it by writing pd."
   ]
  },
  {
   "cell_type": "markdown",
   "metadata": {},
   "source": [
    "## Reading data from static files\n",
    "\n",
    "For reading data from files you have saved locally on your machine or on the repositorty (not recommended for real data) it is useful to use the Path package to automatically give you part of the filepath. "
   ]
  },
  {
   "cell_type": "code",
   "execution_count": null,
   "metadata": {},
   "outputs": [],
   "source": [
    "from pathlib import Path\n",
    "\n",
    "current_directory = Path.cwd()\n",
    "home_directory = Path.home()\n",
    "documents_directory = Path.home() / \"Documents\"\n",
    "\n",
    "print(current_directory)\n",
    "print(home_directory)\n",
    "print(documents_directory)"
   ]
  },
  {
   "cell_type": "markdown",
   "metadata": {},
   "source": [
    "Please note for `Path.cwd()` if you are using a Jupyter Notebook (as we currently are) this will give you the filepath to where the Jupyter Notebook is located. If you are using a .py file this will give the filepath to where you are in your terminal."
   ]
  },
  {
   "cell_type": "markdown",
   "metadata": {},
   "source": [
    "### Reading CSV's\n",
    "\n",
    "We will start with the most simple case - reading csv files. I have stored example data on the repository in tutorials/data. We can use built in pandas function `read_csv`"
   ]
  },
  {
   "cell_type": "code",
   "execution_count": null,
   "metadata": {},
   "outputs": [],
   "source": [
    "data = pd.read_csv(current_directory / \"data/customers-1000.csv\")\n",
    "\n",
    "print(data)"
   ]
  },
  {
   "cell_type": "markdown",
   "metadata": {},
   "source": [
    "### Popular arguments\n",
    "\n",
    "**usecols** - allows you select only certain columns to be read in. Either by putting the column names in a list or by referencing there positional argument (remember python indexes from 0!)"
   ]
  },
  {
   "cell_type": "code",
   "execution_count": null,
   "metadata": {},
   "outputs": [],
   "source": [
    "data = pd.read_csv(current_directory / \"data/customers-1000.csv\", usecols=[\"Customer Id\", \"First Name\"])\n",
    "\n",
    "print(data)"
   ]
  },
  {
   "cell_type": "code",
   "execution_count": null,
   "metadata": {},
   "outputs": [],
   "source": [
    "data = pd.read_csv(current_directory / \"data/customers-1000.csv\", usecols=[1,2])\n",
    "\n",
    "print(data)"
   ]
  },
  {
   "cell_type": "markdown",
   "metadata": {},
   "source": [
    "There are many possible arguments but I don't often find the need to use these for CSV's. For more information on the different arguments, please reference the documentation https://pandas.pydata.org/docs/reference/api/pandas.read_csv.html"
   ]
  },
  {
   "cell_type": "markdown",
   "metadata": {},
   "source": [
    "### Reading XLSX\n",
    "\n",
    "Now we will consider reading data from xlsx file or works the same for xls. We use the built in pandas function `read_excel`"
   ]
  },
  {
   "cell_type": "code",
   "execution_count": null,
   "metadata": {},
   "outputs": [],
   "source": [
    "data = pd.read_excel(current_directory / \"data/Financial Sample.xlsx\")\n",
    "\n",
    "print(data)"
   ]
  },
  {
   "cell_type": "markdown",
   "metadata": {},
   "source": [
    "### Popular arguments\n",
    "\n",
    "**header** - allows you pick which row number you want to use as your column headers (again remember python indexs from 0!)\n",
    "\n",
    "**usecols** - allows you select only certain columns to be read in. Either by putting the column names in a list or by referencing there positional argument (remember python indexes from 0!) and call also reference letters from excel as a string."
   ]
  },
  {
   "cell_type": "code",
   "execution_count": null,
   "metadata": {},
   "outputs": [],
   "source": [
    "data = pd.read_excel(current_directory / \"data/Financial Sample.xlsx\", header=2, usecols=[\"Segment\",\"Country\"])\n",
    "\n",
    "print(data)"
   ]
  },
  {
   "cell_type": "code",
   "execution_count": null,
   "metadata": {},
   "outputs": [],
   "source": [
    "data = pd.read_excel(current_directory / \"data/Financial Sample.xlsx\", header=2, usecols=\"A:C,F,H\")\n",
    "\n",
    "print(data)"
   ]
  },
  {
   "cell_type": "markdown",
   "metadata": {},
   "source": [
    "**sheet_name** - usually the xlsx file will contain multiple sheets so simply state name of the sheet"
   ]
  },
  {
   "cell_type": "code",
   "execution_count": null,
   "metadata": {},
   "outputs": [],
   "source": [
    "data = pd.read_excel(current_directory / \"data/Financial Sample.xlsx\", sheet_name=\"Sheet1\", header=2, usecols=\"A:C,F,H\")\n",
    "\n",
    "print(data)"
   ]
  },
  {
   "cell_type": "markdown",
   "metadata": {},
   "source": [
    "**encoding** - the default encoding is `utf-8` this will usually work but sometimes you may get an error that it is unable to read the file due to encoding and you must try another type,such as `ISO-8859-1`."
   ]
  },
  {
   "cell_type": "markdown",
   "metadata": {},
   "source": [
    "One horrible scenario you may encounter with xlsx files is that cells are merged or a single sheet contains multiple tables. Please see the example below for dealing with this."
   ]
  },
  {
   "cell_type": "code",
   "execution_count": null,
   "metadata": {},
   "outputs": [],
   "source": [
    "df = pd.read_excel(\n",
    "        current_directory / \"data/Financial Sample merged cells.xlsx\", header=[0,1])\n",
    "\n",
    "# Get the number of columns\n",
    "num_cols = df.shape[1]\n",
    "\n",
    "# Extract merged headers and column names\n",
    "merged_headers = df.iloc[0].values\n",
    "column_names = df.iloc[1].values\n",
    "\n",
    "# Initialize the current merged header\n",
    "current_merged_header = None\n",
    "\n",
    "# Create new column headers\n",
    "new_columns = []\n",
    "for col in range(num_cols):\n",
    "    merged_header = merged_headers[col]\n",
    "    column_name = column_names[col]\n",
    "    \n",
    "    # Update the current merged header if it's not empty\n",
    "    if pd.notna(merged_header) and merged_header != '':\n",
    "        current_merged_header = merged_header\n",
    "    \n",
    "    # Combine the current merged header with the column name\n",
    "    if current_merged_header:\n",
    "        new_column_name = f\"{current_merged_header}_{column_name}\"\n",
    "    else:\n",
    "        new_column_name = column_name\n",
    "    \n",
    "    new_columns.append(new_column_name)\n",
    "\n",
    "# Assign the new column headers to the DataFrame\n",
    "df.columns = new_columns\n",
    "\n",
    "# Filter out columns containing nan, this is the columns between tables\n",
    "df = df.loc[:, ~df.columns.str.contains('nan', case=False, na=False)]\n",
    "\n",
    "# Drop the header rows (first two rows)\n",
    "df = df.drop(index=[0, 1])\n",
    "\n",
    "\n",
    "print(df)\n"
   ]
  },
  {
   "cell_type": "markdown",
   "metadata": {},
   "source": [
    "### Reading ODS files\n",
    "\n",
    "This works very similar to reading excel files, the only difference being that you must state an appropriate engine as an argument. I have found the fatest to be `engine=\"calamine\"`. More information on engines can be found here in the read_excel documentation https://pandas.pydata.org/docs/reference/api/pandas.read_excel.html"
   ]
  }
 ],
 "metadata": {
  "kernelspec": {
   "display_name": "base",
   "language": "python",
   "name": "python3"
  },
  "language_info": {
   "codemirror_mode": {
    "name": "ipython",
    "version": 3
   },
   "file_extension": ".py",
   "mimetype": "text/x-python",
   "name": "python",
   "nbconvert_exporter": "python",
   "pygments_lexer": "ipython3",
   "version": "3.12.4"
  }
 },
 "nbformat": 4,
 "nbformat_minor": 2
}
